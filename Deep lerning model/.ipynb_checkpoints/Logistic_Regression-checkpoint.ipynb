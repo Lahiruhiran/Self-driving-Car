{
 "cells": [
  {
   "cell_type": "code",
   "execution_count": 4,
   "metadata": {},
   "outputs": [],
   "source": [
    "import numpy as np\n",
    "import matplotlib.pyplot as ply"
   ]
  },
  {
   "cell_type": "code",
   "execution_count": 6,
   "metadata": {},
   "outputs": [
    {
     "data": {
      "text/plain": [
       "array([[13.05181065,  8.22906044,  8.27719607,  9.09764217,  8.06113457,\n",
       "         9.07527379, 12.03692252,  8.18953436,  7.73142909, 10.86587708],\n",
       "       [14.96835462, 11.34577388, 14.3189865 , 11.83385251,  8.99472904,\n",
       "        15.07129447,  9.43319587, 15.0803993 , 12.56333732, 12.13965125]])"
      ]
     },
     "execution_count": 6,
     "metadata": {},
     "output_type": "execute_result"
    }
   ],
   "source": [
    "n_plt  = 10\n",
    "top_region = np.array([np.random.normal(10, 2, n_plt), np.random.normal(12, 2, n_plt) ]).T\n",
    "_, ax = plt.subpolts(figsize =(4, 4))\n",
    "ax.scatter (top_region[:, 0], top_region[:, 1])\n",
    "top_region"
   ]
  },
  {
   "cell_type": "code",
   "execution_count": null,
   "metadata": {},
   "outputs": [],
   "source": []
  }
 ],
 "metadata": {
  "kernelspec": {
   "display_name": "Python 3",
   "language": "python",
   "name": "python3"
  },
  "language_info": {
   "codemirror_mode": {
    "name": "ipython",
    "version": 3
   },
   "file_extension": ".py",
   "mimetype": "text/x-python",
   "name": "python",
   "nbconvert_exporter": "python",
   "pygments_lexer": "ipython3",
   "version": "3.7.1"
  }
 },
 "nbformat": 4,
 "nbformat_minor": 4
}
