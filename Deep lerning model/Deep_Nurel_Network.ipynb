{
 "cells": [
  {
   "cell_type": "code",
   "execution_count": 16,
   "metadata": {},
   "outputs": [
    {
     "name": "stdout",
     "output_type": "stream",
     "text": [
      "Using matplotlib backend: Qt5Agg\n"
     ]
    }
   ],
   "source": [
    "import numpy as np\n",
    "import matplotlib.pyplot as plt\n",
    "%matplotlib\n",
    "from sklearn import datasets\n",
    "from keras.models import Sequential\n",
    "from keras.layers import Dense\n",
    "from keras.optimizers import  Adam"
   ]
  },
  {
   "cell_type": "code",
   "execution_count": 17,
   "metadata": {},
   "outputs": [],
   "source": [
    "np.random.seed(0)"
   ]
  },
  {
   "cell_type": "code",
   "execution_count": 18,
   "metadata": {},
   "outputs": [],
   "source": [
    "n_pts = 500\n",
    "X, y = datasets.make_circles(n_samples =n_pts, random_state =123,noise=0.1,  factor=0.2)\n",
    "# print(X)\n",
    "# print(y)"
   ]
  },
  {
   "cell_type": "code",
   "execution_count": 19,
   "metadata": {},
   "outputs": [
    {
     "data": {
      "text/plain": [
       "<matplotlib.collections.PathCollection at 0x237232ca2e8>"
      ]
     },
     "execution_count": 19,
     "metadata": {},
     "output_type": "execute_result"
    }
   ],
   "source": [
    "plt.scatter(X[y==0, 0], X[y==0, 1])\n",
    "plt.scatter(X[y==1, 0], X[y==1, 1])"
   ]
  },
  {
   "cell_type": "code",
   "execution_count": 20,
   "metadata": {},
   "outputs": [],
   "source": [
    "model=Sequential()\n",
    "model.add(Dense(4, input_shape=(2, ), activation ='sigmoid'))\n",
    "model.add(Dense(1, activation='sigmoid'))\n",
    "model.compile(Adam(lr =0.1), 'binary_crossentropy', metrics=['accuracy'])\n"
   ]
  },
  {
   "cell_type": "code",
   "execution_count": 21,
   "metadata": {},
   "outputs": [
    {
     "name": "stdout",
     "output_type": "stream",
     "text": [
      "Epoch 1/100\n",
      "500/500 [==============================] - 1s 2ms/step - loss: 0.6955 - acc: 0.5300\n",
      "Epoch 2/100\n",
      "500/500 [==============================] - 0s 52us/step - loss: 0.6420 - acc: 0.6260\n",
      "Epoch 3/100\n",
      "500/500 [==============================] - 0s 70us/step - loss: 0.4678 - acc: 0.8720\n",
      "Epoch 4/100\n",
      "500/500 [==============================] - 0s 64us/step - loss: 0.2416 - acc: 0.9360\n",
      "Epoch 5/100\n",
      "500/500 [==============================] - 0s 68us/step - loss: 0.1275 - acc: 0.9820\n",
      "Epoch 6/100\n",
      "500/500 [==============================] - 0s 68us/step - loss: 0.0763 - acc: 1.0000\n",
      "Epoch 7/100\n",
      "500/500 [==============================] - 0s 62us/step - loss: 0.0496 - acc: 1.0000\n",
      "Epoch 8/100\n",
      "500/500 [==============================] - 0s 70us/step - loss: 0.0364 - acc: 1.0000\n",
      "Epoch 9/100\n",
      "500/500 [==============================] - 0s 62us/step - loss: 0.0289 - acc: 1.0000\n",
      "Epoch 10/100\n",
      "500/500 [==============================] - 0s 66us/step - loss: 0.0235 - acc: 1.0000\n",
      "Epoch 11/100\n",
      "500/500 [==============================] - 0s 56us/step - loss: 0.0199 - acc: 1.0000\n",
      "Epoch 12/100\n",
      "500/500 [==============================] - 0s 60us/step - loss: 0.0167 - acc: 1.0000\n",
      "Epoch 13/100\n",
      "500/500 [==============================] - 0s 54us/step - loss: 0.0148 - acc: 1.0000\n",
      "Epoch 14/100\n",
      "500/500 [==============================] - 0s 70us/step - loss: 0.0133 - acc: 1.0000\n",
      "Epoch 15/100\n",
      "500/500 [==============================] - 0s 54us/step - loss: 0.0121 - acc: 1.0000\n",
      "Epoch 16/100\n",
      "500/500 [==============================] - 0s 70us/step - loss: 0.0105 - acc: 1.0000\n",
      "Epoch 17/100\n",
      "500/500 [==============================] - 0s 74us/step - loss: 0.0095 - acc: 1.0000\n",
      "Epoch 18/100\n",
      "500/500 [==============================] - 0s 70us/step - loss: 0.0087 - acc: 1.0000\n",
      "Epoch 19/100\n",
      "500/500 [==============================] - 0s 58us/step - loss: 0.0078 - acc: 1.0000\n",
      "Epoch 20/100\n",
      "500/500 [==============================] - 0s 60us/step - loss: 0.0073 - acc: 1.0000\n",
      "Epoch 21/100\n",
      "500/500 [==============================] - 0s 48us/step - loss: 0.0067 - acc: 1.0000\n",
      "Epoch 22/100\n",
      "500/500 [==============================] - 0s 66us/step - loss: 0.0063 - acc: 1.0000\n",
      "Epoch 23/100\n",
      "500/500 [==============================] - 0s 64us/step - loss: 0.0059 - acc: 1.0000\n",
      "Epoch 24/100\n",
      "500/500 [==============================] - 0s 64us/step - loss: 0.0058 - acc: 1.0000\n",
      "Epoch 25/100\n",
      "500/500 [==============================] - 0s 64us/step - loss: 0.0055 - acc: 1.0000\n",
      "Epoch 26/100\n",
      "500/500 [==============================] - 0s 80us/step - loss: 0.0050 - acc: 1.0000\n",
      "Epoch 27/100\n",
      "500/500 [==============================] - 0s 64us/step - loss: 0.0051 - acc: 1.0000\n",
      "Epoch 28/100\n",
      "500/500 [==============================] - 0s 46us/step - loss: 0.0045 - acc: 1.0000\n",
      "Epoch 29/100\n",
      "500/500 [==============================] - 0s 46us/step - loss: 0.0042 - acc: 1.0000\n",
      "Epoch 30/100\n",
      "500/500 [==============================] - 0s 60us/step - loss: 0.0041 - acc: 1.0000\n",
      "Epoch 31/100\n",
      "500/500 [==============================] - 0s 70us/step - loss: 0.0044 - acc: 1.0000\n",
      "Epoch 32/100\n",
      "500/500 [==============================] - 0s 80us/step - loss: 0.0039 - acc: 1.0000\n",
      "Epoch 33/100\n",
      "500/500 [==============================] - 0s 68us/step - loss: 0.0034 - acc: 1.0000\n",
      "Epoch 34/100\n",
      "500/500 [==============================] - 0s 62us/step - loss: 0.0033 - acc: 1.0000\n",
      "Epoch 35/100\n",
      "500/500 [==============================] - 0s 60us/step - loss: 0.0031 - acc: 1.0000\n",
      "Epoch 36/100\n",
      "500/500 [==============================] - 0s 52us/step - loss: 0.0030 - acc: 1.0000\n",
      "Epoch 37/100\n",
      "500/500 [==============================] - 0s 68us/step - loss: 0.0029 - acc: 1.0000\n",
      "Epoch 38/100\n",
      "500/500 [==============================] - 0s 68us/step - loss: 0.0028 - acc: 1.0000\n",
      "Epoch 39/100\n",
      "500/500 [==============================] - 0s 62us/step - loss: 0.0027 - acc: 1.0000\n",
      "Epoch 40/100\n",
      "500/500 [==============================] - 0s 54us/step - loss: 0.0028 - acc: 1.0000\n",
      "Epoch 41/100\n",
      "500/500 [==============================] - 0s 58us/step - loss: 0.0024 - acc: 1.0000\n",
      "Epoch 42/100\n",
      "500/500 [==============================] - 0s 54us/step - loss: 0.0024 - acc: 1.0000\n",
      "Epoch 43/100\n",
      "500/500 [==============================] - 0s 54us/step - loss: 0.0024 - acc: 1.0000\n",
      "Epoch 44/100\n",
      "500/500 [==============================] - 0s 56us/step - loss: 0.0022 - acc: 1.0000\n",
      "Epoch 45/100\n",
      "500/500 [==============================] - 0s 58us/step - loss: 0.0022 - acc: 1.0000\n",
      "Epoch 46/100\n",
      "500/500 [==============================] - 0s 56us/step - loss: 0.0020 - acc: 1.0000\n",
      "Epoch 47/100\n",
      "500/500 [==============================] - 0s 54us/step - loss: 0.0019 - acc: 1.0000\n",
      "Epoch 48/100\n",
      "500/500 [==============================] - 0s 64us/step - loss: 0.0018 - acc: 1.0000\n",
      "Epoch 49/100\n",
      "500/500 [==============================] - 0s 58us/step - loss: 0.0018 - acc: 1.0000\n",
      "Epoch 50/100\n",
      "500/500 [==============================] - 0s 64us/step - loss: 0.0018 - acc: 1.0000\n",
      "Epoch 51/100\n",
      "500/500 [==============================] - 0s 50us/step - loss: 0.0017 - acc: 1.0000\n",
      "Epoch 52/100\n",
      "500/500 [==============================] - 0s 48us/step - loss: 0.0017 - acc: 1.0000\n",
      "Epoch 53/100\n",
      "500/500 [==============================] - 0s 46us/step - loss: 0.0017 - acc: 1.0000\n",
      "Epoch 54/100\n",
      "500/500 [==============================] - 0s 46us/step - loss: 0.0017 - acc: 1.0000\n",
      "Epoch 55/100\n",
      "500/500 [==============================] - 0s 58us/step - loss: 0.0017 - acc: 1.0000\n",
      "Epoch 56/100\n",
      "500/500 [==============================] - 0s 64us/step - loss: 0.0016 - acc: 1.0000\n",
      "Epoch 57/100\n",
      "500/500 [==============================] - 0s 54us/step - loss: 0.0014 - acc: 1.0000\n",
      "Epoch 58/100\n",
      "500/500 [==============================] - 0s 56us/step - loss: 0.0015 - acc: 1.0000\n",
      "Epoch 59/100\n",
      "500/500 [==============================] - 0s 64us/step - loss: 0.0014 - acc: 1.0000\n",
      "Epoch 60/100\n",
      "500/500 [==============================] - 0s 60us/step - loss: 0.0013 - acc: 1.0000\n",
      "Epoch 61/100\n",
      "500/500 [==============================] - 0s 70us/step - loss: 0.0013 - acc: 1.0000\n",
      "Epoch 62/100\n",
      "500/500 [==============================] - 0s 62us/step - loss: 0.0012 - acc: 1.0000\n",
      "Epoch 63/100\n",
      "500/500 [==============================] - 0s 56us/step - loss: 0.0012 - acc: 1.0000\n",
      "Epoch 64/100\n",
      "500/500 [==============================] - 0s 56us/step - loss: 0.0012 - acc: 1.0000\n",
      "Epoch 65/100\n",
      "500/500 [==============================] - 0s 54us/step - loss: 0.0012 - acc: 1.0000\n",
      "Epoch 66/100\n",
      "500/500 [==============================] - 0s 74us/step - loss: 0.0011 - acc: 1.0000\n",
      "Epoch 67/100\n",
      "500/500 [==============================] - 0s 68us/step - loss: 0.0011 - acc: 1.0000\n",
      "Epoch 68/100\n",
      "500/500 [==============================] - 0s 56us/step - loss: 0.0011 - acc: 1.0000\n",
      "Epoch 69/100\n",
      "500/500 [==============================] - 0s 64us/step - loss: 0.0011 - acc: 1.0000\n",
      "Epoch 70/100\n",
      "500/500 [==============================] - 0s 56us/step - loss: 0.0010 - acc: 1.0000\n",
      "Epoch 71/100\n",
      "500/500 [==============================] - 0s 58us/step - loss: 0.0011 - acc: 1.0000\n",
      "Epoch 72/100\n",
      "500/500 [==============================] - 0s 70us/step - loss: 0.0011 - acc: 1.0000\n",
      "Epoch 73/100\n",
      "500/500 [==============================] - 0s 70us/step - loss: 0.0011 - acc: 1.0000\n",
      "Epoch 74/100\n",
      "500/500 [==============================] - 0s 60us/step - loss: 0.0011 - acc: 1.0000\n",
      "Epoch 75/100\n",
      "500/500 [==============================] - 0s 60us/step - loss: 0.0010 - acc: 1.0000\n",
      "Epoch 76/100\n",
      "500/500 [==============================] - 0s 58us/step - loss: 9.3798e-04 - acc: 1.0000\n",
      "Epoch 77/100\n",
      "500/500 [==============================] - 0s 70us/step - loss: 9.2125e-04 - acc: 1.0000\n",
      "Epoch 78/100\n",
      "500/500 [==============================] - 0s 56us/step - loss: 8.7529e-04 - acc: 1.0000\n",
      "Epoch 79/100\n",
      "500/500 [==============================] - 0s 68us/step - loss: 8.9168e-04 - acc: 1.0000\n",
      "Epoch 80/100\n",
      "500/500 [==============================] - 0s 62us/step - loss: 8.0618e-04 - acc: 1.0000\n",
      "Epoch 81/100\n",
      "500/500 [==============================] - 0s 66us/step - loss: 7.9376e-04 - acc: 1.0000\n",
      "Epoch 82/100\n",
      "500/500 [==============================] - 0s 64us/step - loss: 7.5385e-04 - acc: 1.0000\n",
      "Epoch 83/100\n",
      "500/500 [==============================] - 0s 64us/step - loss: 7.4357e-04 - acc: 1.0000\n",
      "Epoch 84/100\n",
      "500/500 [==============================] - 0s 66us/step - loss: 7.5625e-04 - acc: 1.0000\n",
      "Epoch 85/100\n",
      "500/500 [==============================] - 0s 52us/step - loss: 9.3135e-04 - acc: 1.0000\n",
      "Epoch 86/100\n",
      "500/500 [==============================] - 0s 48us/step - loss: 0.0011 - acc: 1.0000\n",
      "Epoch 87/100\n",
      "500/500 [==============================] - 0s 54us/step - loss: 0.0015 - acc: 1.0000\n",
      "Epoch 88/100\n",
      "500/500 [==============================] - 0s 50us/step - loss: 0.0019 - acc: 1.0000\n",
      "Epoch 89/100\n",
      "500/500 [==============================] - 0s 64us/step - loss: 0.0029 - acc: 1.0000\n",
      "Epoch 90/100\n",
      "500/500 [==============================] - 0s 68us/step - loss: 9.7482e-04 - acc: 1.0000\n",
      "Epoch 91/100\n",
      "500/500 [==============================] - 0s 62us/step - loss: 6.4020e-04 - acc: 1.0000\n",
      "Epoch 92/100\n",
      "500/500 [==============================] - 0s 68us/step - loss: 6.3295e-04 - acc: 1.0000\n",
      "Epoch 93/100\n",
      "500/500 [==============================] - 0s 66us/step - loss: 5.8906e-04 - acc: 1.0000\n",
      "Epoch 94/100\n",
      "500/500 [==============================] - 0s 74us/step - loss: 5.6906e-04 - acc: 1.0000\n",
      "Epoch 95/100\n",
      "500/500 [==============================] - 0s 76us/step - loss: 5.6870e-04 - acc: 1.0000\n",
      "Epoch 96/100\n",
      "500/500 [==============================] - 0s 68us/step - loss: 5.5368e-04 - acc: 1.0000\n",
      "Epoch 97/100\n",
      "500/500 [==============================] - 0s 66us/step - loss: 5.4160e-04 - acc: 1.0000\n",
      "Epoch 98/100\n",
      "500/500 [==============================] - 0s 80us/step - loss: 5.1810e-04 - acc: 1.0000\n",
      "Epoch 99/100\n",
      "500/500 [==============================] - 0s 76us/step - loss: 4.9967e-04 - acc: 1.0000\n",
      "Epoch 100/100\n",
      "500/500 [==============================] - 0s 64us/step - loss: 4.9696e-04 - acc: 1.0000\n"
     ]
    }
   ],
   "source": [
    "h =model.fit(x=X, y=y, verbose=1, batch_size=20, epochs=100,shuffle='true')"
   ]
  },
  {
   "cell_type": "code",
   "execution_count": 22,
   "metadata": {},
   "outputs": [
    {
     "data": {
      "text/plain": [
       "Text(0.5, 1.0, 'accuracy')"
      ]
     },
     "execution_count": 22,
     "metadata": {},
     "output_type": "execute_result"
    }
   ],
   "source": [
    "plt.plot(h.history['acc'])\n",
    "plt.xlabel('Epoche')\n",
    "plt.legend(['accuracy'])\n",
    "plt.title('accuracy')"
   ]
  },
  {
   "cell_type": "code",
   "execution_count": 23,
   "metadata": {},
   "outputs": [
    {
     "data": {
      "text/plain": [
       "Text(0.5, 1.0, 'loss')"
      ]
     },
     "execution_count": 23,
     "metadata": {},
     "output_type": "execute_result"
    }
   ],
   "source": [
    "plt.plot(h.history['loss'])\n",
    "plt.xlabel('Epoche')\n",
    "plt.legend(['loss'])\n",
    "plt.title('loss')"
   ]
  },
  {
   "cell_type": "code",
   "execution_count": 24,
   "metadata": {},
   "outputs": [],
   "source": [
    "def plot_decision_boundary(X, y, model):\n",
    "    x_span = np.linspace(min(X[:,0]) - 0.25, max(X[:,0]) + 0.25, 50)\n",
    "    y_span = np.linspace(min(X[:,1]) - 0.25, max(X[:,1]) + 0.25, 50)\n",
    "    xx, yy = np.meshgrid(x_span, y_span)\n",
    "    xx_, yy_ = xx.ravel(), yy.ravel()\n",
    "    grid = np.c_[xx_, yy_]\n",
    "    pred_func = model.predict(grid)\n",
    "    z = pred_func.reshape(xx.shape)\n",
    "    plt.contourf(xx, yy, z)"
   ]
  },
  {
   "cell_type": "code",
   "execution_count": 25,
   "metadata": {},
   "outputs": [
    {
     "data": {
      "text/plain": [
       "<matplotlib.collections.PathCollection at 0x23725d07e10>"
      ]
     },
     "execution_count": 25,
     "metadata": {},
     "output_type": "execute_result"
    }
   ],
   "source": [
    "plot_decision_boundary(X, y, model)\n",
    "plt.scatter(X[:n_pts,0], X[:n_pts,1])\n",
    "plt.scatter(X[n_pts:,0], X[n_pts:,1])"
   ]
  },
  {
   "cell_type": "code",
   "execution_count": 26,
   "metadata": {},
   "outputs": [
    {
     "name": "stdout",
     "output_type": "stream",
     "text": [
      "prediction is [[0.00046348]]\n"
     ]
    }
   ],
   "source": [
    "plot_decision_boundary(X, y, model)\n",
    "plt.scatter(X[:n_pts,0], X[:n_pts,1])\n",
    "plt.scatter(X[n_pts:,0], X[n_pts:,1])\n",
    "x =0.1\n",
    "y=0.75\n",
    "point = np.array([[x, y]])\n",
    "prediction = model.predict(point)\n",
    "plt.plot([x], [y], marker='o', markersize=10, color='red')\n",
    "print(\"prediction is\", prediction)"
   ]
  },
  {
   "cell_type": "code",
   "execution_count": null,
   "metadata": {},
   "outputs": [],
   "source": []
  }
 ],
 "metadata": {
  "kernelspec": {
   "display_name": "Python 3",
   "language": "python",
   "name": "python3"
  },
  "language_info": {
   "codemirror_mode": {
    "name": "ipython",
    "version": 3
   },
   "file_extension": ".py",
   "mimetype": "text/x-python",
   "name": "python",
   "nbconvert_exporter": "python",
   "pygments_lexer": "ipython3",
   "version": "3.7.1"
  }
 },
 "nbformat": 4,
 "nbformat_minor": 4
}
